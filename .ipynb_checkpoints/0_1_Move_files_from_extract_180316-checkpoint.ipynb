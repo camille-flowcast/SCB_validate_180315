{
 "cells": [
  {
   "cell_type": "markdown",
   "metadata": {},
   "source": [
    "terminal: unzip\n",
    "\n",
    "mkdir /home/ec2-user/SCB_DATA/zipped_files\n",
    "cd SCB_DATA/zipped_files/ \n",
    "unzip ~/SCB_DATA/FROM_SCB_ZIP/OTP_othertables_data.zip\n"
   ]
  },
  {
   "cell_type": "code",
   "execution_count": 1,
   "metadata": {
    "collapsed": true
   },
   "outputs": [],
   "source": [
    "import os\n",
    "import shutil\n",
    "import re"
   ]
  },
  {
   "cell_type": "code",
   "execution_count": 3,
   "metadata": {
    "collapsed": true
   },
   "outputs": [],
   "source": [
    "prods = ['BATB', 'BDBR', 'ECIF', 'ECPR', 'LBDS', 'LRRP', 'PFAC', 'PSHP', 'IFNS', 'IFNB', 'TRDS', 'RSRV']"
   ]
  },
  {
   "cell_type": "code",
   "execution_count": 11,
   "metadata": {},
   "outputs": [],
   "source": [
    "to_path = '/home/flowcast/data/FROM_SCB_TXT/O'\n",
    "/home/ec2-user/SCB_DATA/FROM_SCB_TXT/'\n",
    "from_path = '/home/ec2-user/SCB_DATA/zipped_files/'\n"
   ]
  },
  {
   "cell_type": "code",
   "execution_count": 12,
   "metadata": {},
   "outputs": [
    {
     "name": "stdout",
     "output_type": "stream",
     "text": [
      "OTP_ALL_SCBT_T_PYMT_ALLOC_DTLS_BATB.txt  OTP_ALL_SCBT_T_RFF_ALLOC_DTLS_LBDS.txt\r\n",
      "OTP_ALL_SCBT_T_PYMT_ALLOC_DTLS_BDBR.txt  OTP_ALL_SCBT_T_RFF_ALLOC_DTLS_LRRP.txt\r\n",
      "OTP_ALL_SCBT_T_PYMT_ALLOC_DTLS_ECIF.txt  OTP_ALL_SCBT_T_RFF_ALLOC_DTLS_PFAC.txt\r\n",
      "OTP_ALL_SCBT_T_PYMT_ALLOC_DTLS_ECPR.txt  OTP_ALL_SCBT_T_RFF_ALLOC_DTLS_PSHP.txt\r\n",
      "OTP_ALL_SCBT_T_PYMT_ALLOC_DTLS_IFNB.txt  OTP_ALL_SCBT_T_RFF_ALLOC_DTLS_RSRV.txt\r\n",
      "OTP_ALL_SCBT_T_PYMT_ALLOC_DTLS_IFNS.txt  OTP_ALL_SCBT_T_RFF_ALLOC_DTLS_TRDS.txt\r\n",
      "OTP_ALL_SCBT_T_PYMT_ALLOC_DTLS_LBDS.txt  OTP_ALL_SCBT_T_RFF_LIQ_DTLS_BATB.txt\r\n",
      "OTP_ALL_SCBT_T_PYMT_ALLOC_DTLS_LRRP.txt  OTP_ALL_SCBT_T_RFF_LIQ_DTLS_BDBR.txt\r\n",
      "OTP_ALL_SCBT_T_PYMT_ALLOC_DTLS_PFAC.txt  OTP_ALL_SCBT_T_RFF_LIQ_DTLS_ECIF.txt\r\n",
      "OTP_ALL_SCBT_T_PYMT_ALLOC_DTLS_PSHP.txt  OTP_ALL_SCBT_T_RFF_LIQ_DTLS_ECPR.txt\r\n",
      "OTP_ALL_SCBT_T_PYMT_ALLOC_DTLS_RSRV.txt  OTP_ALL_SCBT_T_RFF_LIQ_DTLS_IFNB.txt\r\n",
      "OTP_ALL_SCBT_T_PYMT_ALLOC_DTLS_TRDS.txt  OTP_ALL_SCBT_T_RFF_LIQ_DTLS_IFNS.txt\r\n",
      "OTP_ALL_SCBT_T_RFF_ALLOC_DTLS_BATB.txt   OTP_ALL_SCBT_T_RFF_LIQ_DTLS_LBDS.txt\r\n",
      "OTP_ALL_SCBT_T_RFF_ALLOC_DTLS_BDBR.txt   OTP_ALL_SCBT_T_RFF_LIQ_DTLS_LRRP.txt\r\n",
      "OTP_ALL_SCBT_T_RFF_ALLOC_DTLS_ECIF.txt   OTP_ALL_SCBT_T_RFF_LIQ_DTLS_PFAC.txt\r\n",
      "OTP_ALL_SCBT_T_RFF_ALLOC_DTLS_ECPR.txt   OTP_ALL_SCBT_T_RFF_LIQ_DTLS_PSHP.txt\r\n",
      "OTP_ALL_SCBT_T_RFF_ALLOC_DTLS_IFNB.txt   OTP_ALL_SCBT_T_RFF_LIQ_DTLS_RSRV.txt\r\n",
      "OTP_ALL_SCBT_T_RFF_ALLOC_DTLS_IFNS.txt   OTP_ALL_SCBT_T_RFF_LIQ_DTLS_TRDS.txt\r\n"
     ]
    }
   ],
   "source": [
    "ls '/home/ec2-user/SCB_DATA/zipped_files'"
   ]
  },
  {
   "cell_type": "code",
   "execution_count": 13,
   "metadata": {},
   "outputs": [
    {
     "name": "stdout",
     "output_type": "stream",
     "text": [
      "OTP_ALL_SCBT_T_RFF_ALLOC_DTLS_ECIF.txt\n",
      "ECIF\n",
      "OTP_ALL_SCBT_T_PYMT_ALLOC_DTLS_IFNB.txt\n",
      "IFNB\n",
      "OTP_ALL_SCBT_T_RFF_LIQ_DTLS_ECIF.txt\n",
      "ECIF\n",
      "OTP_ALL_SCBT_T_PYMT_ALLOC_DTLS_BDBR.txt\n",
      "BDBR\n",
      "OTP_ALL_SCBT_T_RFF_LIQ_DTLS_TRDS.txt\n",
      "TRDS\n",
      "OTP_ALL_SCBT_T_RFF_ALLOC_DTLS_PSHP.txt\n",
      "PSHP\n",
      "OTP_ALL_SCBT_T_RFF_ALLOC_DTLS_ECPR.txt\n",
      "ECPR\n",
      "OTP_ALL_SCBT_T_RFF_ALLOC_DTLS_IFNB.txt\n",
      "IFNB\n",
      "OTP_ALL_SCBT_T_RFF_LIQ_DTLS_PSHP.txt\n",
      "PSHP\n",
      "OTP_ALL_SCBT_T_RFF_LIQ_DTLS_PFAC.txt\n",
      "PFAC\n",
      "OTP_ALL_SCBT_T_PYMT_ALLOC_DTLS_PFAC.txt\n",
      "PFAC\n",
      "OTP_ALL_SCBT_T_RFF_LIQ_DTLS_LRRP.txt\n",
      "LRRP\n",
      "OTP_ALL_SCBT_T_RFF_ALLOC_DTLS_LRRP.txt\n",
      "LRRP\n",
      "OTP_ALL_SCBT_T_PYMT_ALLOC_DTLS_ECIF.txt\n",
      "ECIF\n",
      "OTP_ALL_SCBT_T_PYMT_ALLOC_DTLS_PSHP.txt\n",
      "PSHP\n",
      "OTP_ALL_SCBT_T_PYMT_ALLOC_DTLS_TRDS.txt\n",
      "TRDS\n",
      "OTP_ALL_SCBT_T_RFF_LIQ_DTLS_BDBR.txt\n",
      "BDBR\n",
      "OTP_ALL_SCBT_T_PYMT_ALLOC_DTLS_RSRV.txt\n",
      "RSRV\n",
      "OTP_ALL_SCBT_T_RFF_ALLOC_DTLS_IFNS.txt\n",
      "IFNS\n",
      "OTP_ALL_SCBT_T_RFF_ALLOC_DTLS_TRDS.txt\n",
      "TRDS\n",
      "OTP_ALL_SCBT_T_PYMT_ALLOC_DTLS_IFNS.txt\n",
      "IFNS\n",
      "OTP_ALL_SCBT_T_RFF_ALLOC_DTLS_BDBR.txt\n",
      "BDBR\n",
      "OTP_ALL_SCBT_T_RFF_LIQ_DTLS_RSRV.txt\n",
      "RSRV\n",
      "OTP_ALL_SCBT_T_RFF_ALLOC_DTLS_PFAC.txt\n",
      "PFAC\n",
      "OTP_ALL_SCBT_T_PYMT_ALLOC_DTLS_LRRP.txt\n",
      "LRRP\n",
      "OTP_ALL_SCBT_T_RFF_LIQ_DTLS_LBDS.txt\n",
      "LBDS\n",
      "OTP_ALL_SCBT_T_RFF_LIQ_DTLS_BATB.txt\n",
      "BATB\n",
      "OTP_ALL_SCBT_T_RFF_ALLOC_DTLS_RSRV.txt\n",
      "RSRV\n",
      "OTP_ALL_SCBT_T_RFF_LIQ_DTLS_ECPR.txt\n",
      "ECPR\n",
      "OTP_ALL_SCBT_T_RFF_LIQ_DTLS_IFNB.txt\n",
      "IFNB\n",
      "OTP_ALL_SCBT_T_RFF_ALLOC_DTLS_BATB.txt\n",
      "BATB\n",
      "OTP_ALL_SCBT_T_RFF_ALLOC_DTLS_LBDS.txt\n",
      "LBDS\n",
      "OTP_ALL_SCBT_T_PYMT_ALLOC_DTLS_LBDS.txt\n",
      "LBDS\n",
      "OTP_ALL_SCBT_T_PYMT_ALLOC_DTLS_BATB.txt\n",
      "BATB\n",
      "OTP_ALL_SCBT_T_PYMT_ALLOC_DTLS_ECPR.txt\n",
      "ECPR\n",
      "OTP_ALL_SCBT_T_RFF_LIQ_DTLS_IFNS.txt\n",
      "IFNS\n"
     ]
    }
   ],
   "source": [
    "for root, dirs, files in os.walk(from_path, topdown=False):\n",
    "    for name in files:\n",
    "        print name\n",
    "#         if '.txt' in name:\n",
    "        if re.search('.txt', name) <> None:\n",
    "            for prod in prods:\n",
    "                if re.search(prod, name) <> None:\n",
    "#                 if prod in name:\n",
    "                    print prod\n",
    "                    shutil.move(''.join([from_path,name]), '/'.join([to_path,prod,name]))\n",
    "\n"
   ]
  },
  {
   "cell_type": "code",
   "execution_count": 14,
   "metadata": {},
   "outputs": [
    {
     "name": "stdout",
     "output_type": "stream",
     "text": [
      "OTP_ALL_SCBT_T_DEAL_HIST_IFNB.txt      OTP_ALL_SCBT_T_PYMT_ALLOC_DTLS_IFNB.txt\r\n",
      "OTP_ALL_SCBT_T_DEAL_MST_IFNB.txt       OTP_ALL_SCBT_T_PYMT_DTLS_IFNB.txt\r\n",
      "OTP_ALL_SCBT_T_DOC_ADDL_DTLS_IFNB.txt  OTP_ALL_SCBT_T_RFF_ALLOC_DTLS_IFNB.txt\r\n",
      "OTP_ALL_SCBT_T_DOC_KEY_DTLS_IFNB.txt   OTP_ALL_SCBT_T_RFF_DTLS_IFNB.txt\r\n",
      "OTP_ALL_SCBT_T_DOC_PROC_DTLS_IFNB.txt  OTP_ALL_SCBT_T_RFF_LIQ_DTLS_IFNB.txt\r\n",
      "OTP_ALL_SCBT_T_DOC_SHIP_DTLS_IFNB.txt  sci_all_lspsysxref_IFNB.txt\r\n"
     ]
    }
   ],
   "source": [
    "ls '/home/ec2-user/SCB_DATA/FROM_SCB_TXT/IFNB'"
   ]
  },
  {
   "cell_type": "code",
   "execution_count": null,
   "metadata": {
    "collapsed": true
   },
   "outputs": [],
   "source": []
  },
  {
   "cell_type": "code",
   "execution_count": null,
   "metadata": {
    "collapsed": true
   },
   "outputs": [],
   "source": []
  }
 ],
 "metadata": {
  "kernelspec": {
   "display_name": "Python 2",
   "language": "python",
   "name": "python2"
  },
  "language_info": {
   "codemirror_mode": {
    "name": "ipython",
    "version": 2
   },
   "file_extension": ".py",
   "mimetype": "text/x-python",
   "name": "python",
   "nbconvert_exporter": "python",
   "pygments_lexer": "ipython2",
   "version": "2.7.14"
  }
 },
 "nbformat": 4,
 "nbformat_minor": 2
}
