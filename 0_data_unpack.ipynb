{
 "cells": [
  {
   "cell_type": "code",
   "execution_count": 1,
   "metadata": {},
   "outputs": [
    {
     "name": "stdout",
     "output_type": "stream",
     "text": [
      "CG_data.txt                 \u001b[0m\u001b[01;34minstallers\u001b[0m/            ref_otp_custid_sci_leid.csv\r\n",
      "\u001b[01;34mCreditMate\u001b[0m/                 \u001b[01;34mOTP_data\u001b[0m/              \u001b[01;34mSCB_CODE\u001b[0m/\r\n",
      "\u001b[01;34mDTP_data\u001b[0m/                   \u001b[01;31mOTP_data_2017.zip\u001b[0m      \u001b[01;34msoftware\u001b[0m/\r\n",
      "\u001b[01;34mextract\u001b[0m/                    OTP_Data.txt           \u001b[01;34mTableau\u001b[0m/\r\n",
      "\u001b[01;31mFIN_CG_LIMIT_link_2017.zip\u001b[0m  \u001b[01;34mpython\u001b[0m/                \u001b[01;34mtest\u001b[0m/\r\n",
      "\u001b[01;34mFROM_SCB_ZIP\u001b[0m/               ref_exchange_rate.csv  \u001b[01;34mV2-winnie\u001b[0m/\r\n"
     ]
    }
   ],
   "source": [
    "ls /home/flowcast/data/"
   ]
  },
  {
   "cell_type": "code",
   "execution_count": 2,
   "metadata": {},
   "outputs": [
    {
     "name": "stdout",
     "output_type": "stream",
     "text": [
      "Archive:  /home/flowcast/data/OTP_data_2017.zip\r\n",
      "caution: filename not matched:  /home/flowcast/data/SCB_DATA/SCB_TXT/\r\n"
     ]
    }
   ],
   "source": [
    "!unzip /home/flowcast/data/OTP_data_2017.zip ~/data/SCB_DATA/|"
   ]
  },
  {
   "cell_type": "code",
   "execution_count": 3,
   "metadata": {
    "collapsed": true
   },
   "outputs": [],
   "source": [
    "!mkdir /home/flowcast/data/SCB_DATA"
   ]
  },
  {
   "cell_type": "code",
   "execution_count": null,
   "metadata": {},
   "outputs": [
    {
     "name": "stdout",
     "output_type": "stream",
     "text": [
      "Archive:  /home/flowcast/data/OTP_data_2017.zip\r\n",
      "[/home/flowcast/data/OTP_data_2017.zip] OTP_ALL_SCBT_T_DEAL_HIST_BATB.txt password: "
     ]
    }
   ],
   "source": [
    "!unzip /home/flowcast/data/OTP_data_2017.zip -d ~/data/SCB_DATA/SCB_TXT/OTP_data_2017/"
   ]
  },
  {
   "cell_type": "code",
   "execution_count": 5,
   "metadata": {
    "collapsed": true
   },
   "outputs": [],
   "source": [
    "!mkdir /home/flowcast/data/SCB_DATA/SCB_TXT"
   ]
  },
  {
   "cell_type": "code",
   "execution_count": null,
   "metadata": {
    "collapsed": true
   },
   "outputs": [],
   "source": []
  }
 ],
 "metadata": {
  "kernelspec": {
   "display_name": "Python 2",
   "language": "python",
   "name": "python2"
  },
  "language_info": {
   "codemirror_mode": {
    "name": "ipython",
    "version": 2
   },
   "file_extension": ".py",
   "mimetype": "text/x-python",
   "name": "python",
   "nbconvert_exporter": "python",
   "pygments_lexer": "ipython2",
   "version": "2.7.14"
  }
 },
 "nbformat": 4,
 "nbformat_minor": 2
}
